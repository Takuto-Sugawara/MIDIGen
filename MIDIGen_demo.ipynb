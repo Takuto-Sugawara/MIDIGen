{
 "cells": [
  {
   "cell_type": "markdown",
   "metadata": {},
   "source": [
    "このファイル上で、訓練済みモデルを用いてMIDI生成を行い、モデルの性能を評価する\n",
    "\n",
    "inputを何にするかは未定（txt, seed, midi...）"
   ]
  }
 ],
 "metadata": {
  "language_info": {
   "name": "python"
  }
 },
 "nbformat": 4,
 "nbformat_minor": 2
}
